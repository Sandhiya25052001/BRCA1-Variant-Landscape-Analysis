{
 "cells": [
  {
   "cell_type": "code",
   "execution_count": null,
   "id": "67d89864-331b-4719-8cf9-13bebd020793",
   "metadata": {},
   "outputs": [],
   "source": [
    "import pandas as pd\n",
    "import matplotlib.pyplot as plt\n",
    "\n",
    "# Load ClinVar file\n",
    "df = pd.read_csv(\"variant_summary.txt\", sep=\"\\t\", low_memory=False)\n",
    "\n",
    "# Filter for BRCA1\n",
    "brca1 = df[df[\"GeneSymbol\"].str.upper() == \"BRCA1\"].copy()\n",
    "\n",
    "# Clean labels\n",
    "def clean_label(x):\n",
    "    x = str(x).lower()\n",
    "    if \"pathogenic\" in x and \"likely\" not in x:\n",
    "        return \"Pathogenic\"\n",
    "    if \"likely\" in x and \"pathogenic\" in x:\n",
    "        return \"Likely_pathogenic\"\n",
    "    if \"benign\" in x and \"likely\" not in x:\n",
    "        return \"Benign\"\n",
    "    if \"likely\" in x and \"benign\" in x:\n",
    "        return \"Likely_benign\"\n",
    "    if \"uncertain\" in x or \"vus\" in x:\n",
    "        return \"VUS\"\n",
    "    return \"Other\"\n",
    "\n",
    "brca1[\"ClinicalClass\"] = brca1[\"ClinicalSignificance\"].apply(clean_label)\n",
    "\n",
    "# Save cleaned CSV\n",
    "brca1.to_csv(\"brca1_variants_cleaned.csv\", index=False)\n",
    "\n",
    "# Plot bar chart\n",
    "counts = brca1[\"ClinicalClass\"].value_counts()\n",
    "counts.plot(kind=\"bar\", figsize=(6,4), title=\"BRCA1 variants by class\")\n",
    "plt.show()\n",
    "\n",
    "# Pie chart\n",
    "counts.plot(kind=\"pie\", autopct='%1.1f%%', figsize=(6,6), title=\"BRCA1 Clinical Significance\")\n",
    "plt.ylabel(\"\")\n",
    "plt.show()\n"
   ]
  },
  {
   "cell_type": "code",
   "execution_count": null,
   "id": "d3736614-ba62-4afb-a721-27e389718974",
   "metadata": {},
   "outputs": [],
   "source": []
  }
 ],
 "metadata": {
  "kernelspec": {
   "display_name": "Python 3 (ipykernel)",
   "language": "python",
   "name": "python3"
  },
  "language_info": {
   "codemirror_mode": {
    "name": "ipython",
    "version": 3
   },
   "file_extension": ".py",
   "mimetype": "text/x-python",
   "name": "python",
   "nbconvert_exporter": "python",
   "pygments_lexer": "ipython3",
   "version": "3.8.10"
  }
 },
 "nbformat": 4,
 "nbformat_minor": 5
}
